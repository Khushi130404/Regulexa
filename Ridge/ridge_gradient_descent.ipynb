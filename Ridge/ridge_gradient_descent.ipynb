{
 "cells": [
  {
   "cell_type": "code",
   "execution_count": 1,
   "metadata": {},
   "outputs": [],
   "source": [
    "import numpy as np\n",
    "from sklearn.model_selection import train_test_split\n",
    "from sklearn.metrics import r2_score\n",
    "from sklearn.linear_model import Ridge,SGDRegressor\n",
    "from sklearn.datasets import load_diabetes"
   ]
  },
  {
   "cell_type": "code",
   "execution_count": 2,
   "metadata": {},
   "outputs": [],
   "source": [
    "x,y = load_diabetes(return_X_y=True)"
   ]
  },
  {
   "cell_type": "code",
   "execution_count": 3,
   "metadata": {},
   "outputs": [],
   "source": [
    "x_train,x_test,y_train,y_test = train_test_split(x,y,test_size=0.2,random_state=2)"
   ]
  },
  {
   "cell_type": "code",
   "execution_count": 5,
   "metadata": {},
   "outputs": [
    {
     "name": "stdout",
     "output_type": "stream",
     "text": [
      "[  39.630179    -76.59647993  351.60447748  243.39667371    3.49548962\n",
      "  -43.60149895 -169.66476486  116.13105986  318.60279216  116.87130741]\n",
      "[154.0186247]\n"
     ]
    },
    {
     "data": {
      "text/plain": [
       "0.4375386022393992"
      ]
     },
     "execution_count": 5,
     "metadata": {},
     "output_type": "execute_result"
    }
   ],
   "source": [
    "sgd = SGDRegressor(penalty='l2',max_iter=500,eta0=0.1,learning_rate='constant',alpha=0.001)\n",
    "sgd.fit(x_train,y_train)\n",
    "y_pred = sgd.predict(x_test)\n",
    "print(sgd.coef_)\n",
    "print(sgd.intercept_)\n",
    "r2_score(y_test,y_pred)"
   ]
  },
  {
   "cell_type": "code",
   "execution_count": 6,
   "metadata": {},
   "outputs": [
    {
     "name": "stdout",
     "output_type": "stream",
     "text": [
      "[  -8.76149833 -204.3134124   518.38059461  339.9679136  -787.7005257\n",
      "  475.28216547  106.79526523  114.62924648  819.74570573   52.87333514]\n",
      "151.88534057679237\n"
     ]
    },
    {
     "data": {
      "text/plain": [
       "0.4408617148330378"
      ]
     },
     "execution_count": 6,
     "metadata": {},
     "output_type": "execute_result"
    }
   ],
   "source": [
    "r = Ridge(alpha=0.001, max_iter=500,solver='sparse_cg')\n",
    "r.fit(x_train,y_train)\n",
    "y_pred = r.predict(x_test)\n",
    "print(r.coef_)\n",
    "print(r.intercept_)\n",
    "r2_score(y_test,y_pred)"
   ]
  },
  {
   "cell_type": "code",
   "execution_count": 11,
   "metadata": {},
   "outputs": [],
   "source": [
    "class MyRidgeGD:\n",
    "\n",
    "    def __init__(self,alpha,lr,epoch):\n",
    "        self.alpha = alpha\n",
    "        self.lr = lr\n",
    "        self.epoch = epoch\n",
    "        self.b = None\n",
    "        self.m = None\n",
    "\n",
    "    def fit(self,x_train,y_train):\n",
    "        self.b = 0\n",
    "        self.m = np.ones(x_train.shape[1])\n",
    "        w = np.insert(self.b,0,self.m)\n",
    "        x_train = np.insert(x_train,0,1,axis=1)\n",
    "\n",
    "        for i in range(self.epoch):\n",
    "            w_slope = np.dot(x_train.T,x_train).dot(w) -np.dot(x_train.T,y_train) + self.alpha*w\n",
    "            w = w - self.lr*w_slope\n",
    "\n",
    "        self.b = w[0]\n",
    "        self.m = w[1:]\n",
    "        print(self.b)\n",
    "        print(self.m)\n",
    "\n",
    "    def predict(self,x_test):\n",
    "        return np.dot(x_test,self.m)+self.b"
   ]
  },
  {
   "cell_type": "code",
   "execution_count": 12,
   "metadata": {},
   "outputs": [
    {
     "name": "stdout",
     "output_type": "stream",
     "text": [
      "152.03125916862703\n",
      "[  19.56721873 -162.89122648  479.0122069   317.90921944  -34.06104272\n",
      " -108.63245549 -193.6763094   106.96834134  437.15194966  103.30835165]\n"
     ]
    },
    {
     "data": {
      "text/plain": [
       "0.45394193197012733"
      ]
     },
     "execution_count": 12,
     "metadata": {},
     "output_type": "execute_result"
    }
   ],
   "source": [
    "mrgd = MyRidgeGD(epoch=500,alpha=0.001,lr=0.005)\n",
    "mrgd.fit(x_train,y_train)\n",
    "y_pred = mrgd.predict(x_test)\n",
    "r2_score(y_test,y_pred)"
   ]
  },
  {
   "cell_type": "code",
   "execution_count": null,
   "metadata": {},
   "outputs": [],
   "source": []
  }
 ],
 "metadata": {
  "kernelspec": {
   "display_name": "base",
   "language": "python",
   "name": "python3"
  },
  "language_info": {
   "codemirror_mode": {
    "name": "ipython",
    "version": 3
   },
   "file_extension": ".py",
   "mimetype": "text/x-python",
   "name": "python",
   "nbconvert_exporter": "python",
   "pygments_lexer": "ipython3",
   "version": "3.11.4"
  }
 },
 "nbformat": 4,
 "nbformat_minor": 2
}
